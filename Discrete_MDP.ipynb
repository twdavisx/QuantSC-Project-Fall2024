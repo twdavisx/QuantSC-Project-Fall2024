{
  "nbformat": 4,
  "nbformat_minor": 0,
  "metadata": {
    "colab": {
      "provenance": []
    },
    "kernelspec": {
      "name": "python3",
      "display_name": "Python 3"
    },
    "language_info": {
      "name": "python"
    }
  },
  "cells": [
    {
      "cell_type": "markdown",
      "source": [
        "## Imports:"
      ],
      "metadata": {
        "id": "PQ5UuaF7ohb3"
      }
    },
    {
      "cell_type": "code",
      "source": [
        "import numpy as np\n",
        "import yfinance as yf # probably easiest for financial data\n",
        "import pandas as pd\n",
        "import math"
      ],
      "metadata": {
        "id": "zma5prqKfiB6"
      },
      "execution_count": null,
      "outputs": []
    },
    {
      "cell_type": "markdown",
      "source": [
        "## Defining the Discrete MDP class:"
      ],
      "metadata": {
        "id": "mvO3kHpYoqkY"
      }
    },
    {
      "cell_type": "code",
      "execution_count": null,
      "metadata": {
        "id": "cLnS1QZcNfeL"
      },
      "outputs": [],
      "source": [
        "class MDP:\n",
        "\n",
        "  max_iter = 20\n",
        "  convergence_threshold = 0.1\n",
        "  gamma = 0.9913 #realistic day to day discount based on risk free rate\n",
        "\n",
        "  def __init__(self, action, tp, reward_function, pricedict, values):\n",
        "\n",
        "    self.action = action\n",
        "    self.tp = tp\n",
        "    self.reward = reward_function\n",
        "    self.pricedict = pricedict\n",
        "\n",
        "    self.values = values\n",
        "\n",
        "\n",
        "  def value_iteration(self):\n",
        "    iter = 0\n",
        "    delta = 1\n",
        "    while(iter!=self.max_iter and (delta>=self.convergence_threshold)):\n",
        "      iter+=1\n",
        "      delta = 0\n",
        "      new_vals = np.zeros((5,5,5,5,11,3))\n",
        "\n",
        "      for i in range(5):\n",
        "        for j in range(5):\n",
        "          for k in range(5):\n",
        "            for l in range(5):\n",
        "              for inventory in range(11):\n",
        "                for a in range(len(self.action)):\n",
        "                  state = (i,j,k,l,inventory)\n",
        "\n",
        "                  if (self.action[a] == \"buy\" and inventory == 10) or (self.action[a] == \"sell\" and inventory == 0):\n",
        "                    continue\n",
        "\n",
        "                  reward = self.reward(state, self.action[a], self.pricedict, self.tp, self.gamma, self.values)\n",
        "                  delta = max(delta, abs(self.values[i][j][k][l][inventory][a] - reward))\n",
        "                  new_vals[i][j][k][l][inventory][a] = reward\n",
        "\n",
        "      print(iter, delta)\n",
        "      self.values = new_vals\n",
        "\n",
        "    return\n",
        "\n",
        "  def best_action(self, s):\n",
        "\n",
        "    max = self.values[s[0]][s[1]][s[2]][s[3]][s[4]][0]\n",
        "    a = 0\n",
        "    for i in range(1,3):\n",
        "      if self.values[s[0]][s[1]][s[2]][s[3]][s[4]][i] > max:\n",
        "        max = self.values[s[0]][s[1]][s[2]][s[3]][s[4]][i]\n",
        "        a = i\n",
        "        #long but gets rid of if statement\n",
        "    return self.action[a]*bool(max>=0 and not((s[4] == 0 and self.action[a] == 'sell') or (s[4] == 10 and self.action[a] == 'buy')))+bool(max<0 and not((s[4] == 0 and self.action[a] == 'sell') or (s[4] == 10 and self.action[a] == 'buy')))*\"clear\"+bool((s[4] == 0 and self.action[a] == 'sell') or (s[4] == 10 and self.action[a] == 'buy'))*\"hold\""
      ]
    },
    {
      "cell_type": "markdown",
      "source": [
        "## Cleaning data and sorting Data"
      ],
      "metadata": {
        "id": "zXOAcF8yov_T"
      }
    },
    {
      "cell_type": "code",
      "source": [
        "stock = \"NEM\""
      ],
      "metadata": {
        "id": "H_7XFK2rp__j"
      },
      "execution_count": null,
      "outputs": []
    },
    {
      "cell_type": "code",
      "source": [
        "tkr = yf.Ticker(stock)\n",
        "hist = tkr.history(period=\"max\")\n",
        "print((tkr.splits))"
      ],
      "metadata": {
        "colab": {
          "base_uri": "https://localhost:8080/"
        },
        "id": "0Qu1MdbeqJF5",
        "outputId": "983c212b-443f-431b-c24b-10946c9dffa9"
      },
      "execution_count": null,
      "outputs": [
        {
          "output_type": "stream",
          "name": "stdout",
          "text": [
            "Date\n",
            "1987-06-11 00:00:00-04:00    2.00\n",
            "1987-10-09 00:00:00-04:00    1.50\n",
            "1994-04-22 00:00:00-04:00    1.25\n",
            "Name: Stock Splits, dtype: float64\n"
          ]
        }
      ]
    },
    {
      "cell_type": "code",
      "source": [
        "data = yf.download(stock, start='1999-01-01', end='2024-10-01')\n",
        "data['MA_5'] = data['Open'].rolling(window=5).mean()  # 5-day moving average\n",
        "data['Variance'] = data['Open'].rolling(window=5).var()  # 5-day rolling variance\n",
        "data = data.iloc[20:]\n",
        "data = data.drop(columns=['Adj Close', 'High', 'Low', 'Close'])"
      ],
      "metadata": {
        "id": "LoQm2yv0g4Tq",
        "colab": {
          "base_uri": "https://localhost:8080/"
        },
        "outputId": "cd1bf58b-2d70-417f-90cd-17927ed53ca9"
      },
      "execution_count": null,
      "outputs": [
        {
          "output_type": "stream",
          "name": "stderr",
          "text": [
            "\r[*********************100%***********************]  1 of 1 completed\n"
          ]
        }
      ]
    },
    {
      "cell_type": "markdown",
      "source": [
        "## Defining functions to custumize MDP"
      ],
      "metadata": {
        "id": "3JnG35GIo1l5"
      }
    },
    {
      "cell_type": "code",
      "source": [
        "def transform_data(data, num_buckets):\n",
        "  bucket_labels = range(0, num_buckets)\n",
        "  bucketized_data = data.copy()\n",
        "  bucket_boundaries = {}\n",
        "\n",
        "  for col in data.columns:\n",
        "      bucketized_data[col], bins = pd.qcut(data[col], q=num_buckets, labels=bucket_labels, retbins=True)\n",
        "      bucket_boundaries[col] = bins[1:]\n",
        "  return bucketized_data, bucket_boundaries\n",
        "\n",
        "\n",
        "def bucket_state(s, bucket_boundaries, c):\n",
        "  r = []\n",
        "  for i in range(len(c)):\n",
        "    buckets = bucket_boundaries[c[i]]\n",
        "    v = s[i]\n",
        "    for j in range(len(buckets)):\n",
        "      if v < buckets[j]:\n",
        "        r.append(j)\n",
        "        break\n",
        "      if j == len(buckets) - 1:\n",
        "        r.append(j)\n",
        "  return r\n",
        "\n",
        "def create_pricedict(data, close_bucket):\n",
        "  price_dict = np.zeros((len(close_bucket), 2))\n",
        "  r = np.zeros(len(close_bucket))\n",
        "  for row in data.itertuples():\n",
        "    p = row[1]\n",
        "    for i in range(len(close_bucket)):\n",
        "      if p < close_bucket[i]:\n",
        "        price_dict[i][0]+=p\n",
        "        price_dict[i][1]+=1\n",
        "        break\n",
        "      if i == len(close_bucket)-1:\n",
        "        price_dict[i][0]+=p\n",
        "        price_dict[i][1]+=1\n",
        "  for i in range(len(price_dict)):\n",
        "    r[i] = price_dict[i][0]/price_dict[i][1]\n",
        "  return r # r[state_price] returns average price for that bucket\n",
        "\n",
        "def tp(transformed_data):\n",
        "  tp = np.zeros((5,5,5,5,5,5,5,5))\n",
        "  count = np.zeros((5,5,5,5))\n",
        "  i = 0\n",
        "  for row in transformed_data.itertuples():\n",
        "    count[row[1]][row[2]][row[3]][row[4]]+=1\n",
        "    if i!=0:\n",
        "      tp[prevrow[1]][prevrow[2]][prevrow[3]][prevrow[4]][row[1]][row[2]][row[3]][row[4]]+=1 #replaces if statement\n",
        "    i+=1\n",
        "    prevrow = row\n",
        "\n",
        "  for i in range(5):\n",
        "    for j in range(5):\n",
        "      for k in range(5):\n",
        "        for l in range(5):\n",
        "          for o in range(5):\n",
        "            for p in range(5):\n",
        "              for q in range(5):\n",
        "                for r in range(5):\n",
        "                  tp[i][j][k][l][o][p][q][r] = (tp[i][j][k][l][o][p][q][r] * (count[i][j][k][l]!=0))/(count[i][j][k][l] + (count[i][j][k][l]==0)) # gets rid of divide by zero if statement\n",
        "\n",
        "  return tp\n",
        "\n",
        "actions = (\"buy\",\"hold\",\"sell\")\n",
        "\n",
        "def reward_function(s,a,price_dict,tp,gamma,values):\n",
        "  reward = 0\n",
        "  inv = s[4]\n",
        "  inv-=(not(a==\"buy\" or a==\"hold\"))+(not(a==\"sell\" or a==\"hold\")) # no if statement\n",
        "  for i in range(5):\n",
        "    for j in range(5):\n",
        "      for k in range(5):\n",
        "        for l in range(5):\n",
        "          immediate_reward = (price_dict[i] * (inv - 5)) - (price_dict[s[0]] * (inv - 5))\n",
        "          future_value = max(values[i][j][k][l][inv])\n",
        "          reward += tp[s[0]][s[1]][s[2]][s[3]][i][j][k][l] * (immediate_reward + gamma * future_value)\n",
        "\n",
        "  return reward\n",
        "\n",
        "try:\n",
        "  values = np.load(stock+'.npy')\n",
        "  print(\"success loading values\")\n",
        "except:\n",
        "  values = np.zeros((5,5,5,5,11,3))\n",
        "  print(\"failed loading values\")"
      ],
      "metadata": {
        "id": "2ECuDRWhhAdg",
        "colab": {
          "base_uri": "https://localhost:8080/"
        },
        "outputId": "b0391737-43c4-46ad-eb99-f9169c898fd9"
      },
      "execution_count": null,
      "outputs": [
        {
          "output_type": "stream",
          "name": "stdout",
          "text": [
            "success loading values\n"
          ]
        }
      ]
    },
    {
      "cell_type": "code",
      "source": [
        "d, b = transform_data(data, 5)\n",
        "pricedict = create_pricedict(data, b[d.columns[0]])\n",
        "_tp = tp(d)"
      ],
      "metadata": {
        "id": "Qf5kv_md6ARV"
      },
      "execution_count": null,
      "outputs": []
    },
    {
      "cell_type": "markdown",
      "source": [
        "## Creating Test class"
      ],
      "metadata": {
        "id": "ucEFurb0pBV3"
      }
    },
    {
      "cell_type": "code",
      "source": [
        "class BackTest:\n",
        "    def __init__(self, initial_cash, initial_inventory):\n",
        "        self.inventory = initial_inventory\n",
        "        self.cash = initial_cash\n",
        "        self.current_index = -1 #Placeholder Value\n",
        "        self.current_price = -1 #Placeholder value\n",
        "\n",
        "    def download_data(self,ticker,start,end,interval):\n",
        "        self.ticker = ticker\n",
        "        self.data = yf.download(ticker, start=start, end=end, interval=interval)['Open'].iloc[20:]\n",
        "        return\n",
        "\n",
        "    def buy(self,n):\n",
        "        #Buy n Shares\n",
        "        if self.current_price*n > self.cash:\n",
        "            print(\"not enough cash\")\n",
        "            return\n",
        "\n",
        "        self.cash -= self.current_price*n\n",
        "        self.inventory += n\n",
        "\n",
        "    def sell(self,n):\n",
        "        #Sell n Shares\n",
        "\n",
        "        self.cash += self.current_price*n\n",
        "        self.inventory -= n\n",
        "\n",
        "    def step(self):\n",
        "        self.current_index += 1\n",
        "        self.current_price = self.data.iloc[self.current_index][self.ticker]\n",
        "        return\n",
        "\n",
        "    def getInv(self):\n",
        "      return self.inventory\n",
        "\n",
        "    def get_portfolio_value(self):\n",
        "        return self.current_price*self.inventory + self.cash"
      ],
      "metadata": {
        "id": "In3q7BjAdkxQ"
      },
      "execution_count": null,
      "outputs": []
    },
    {
      "cell_type": "markdown",
      "source": [
        "## Model Init and Training"
      ],
      "metadata": {
        "id": "7eL2XjaipHji"
      }
    },
    {
      "cell_type": "code",
      "source": [
        "model = MDP(actions, _tp, reward_function, pricedict, values)\n",
        "model.value_iteration()"
      ],
      "metadata": {
        "colab": {
          "base_uri": "https://localhost:8080/"
        },
        "id": "TvuD7ZYJ7xDG",
        "outputId": "adefda1e-1f7a-43c4-ce0a-6486bc86de56"
      },
      "execution_count": null,
      "outputs": [
        {
          "output_type": "stream",
          "name": "stdout",
          "text": [
            "1 73.26995109536979\n",
            "2 28.80492067978596\n",
            "3 9.171624852392386\n",
            "4 5.4247562187232\n",
            "5 2.7327286750642372\n",
            "6 1.9657331182473583\n",
            "7 1.583012020337125\n",
            "8 1.2905354521676298\n",
            "9 1.2554575082386474\n",
            "10 1.2246440253450679\n",
            "11 1.1987118882470824\n",
            "12 1.1720367002760383\n",
            "13 1.145052004904235\n",
            "14 1.1151265675937498\n",
            "15 1.0823443616922148\n",
            "16 1.0501957828831543\n"
          ]
        }
      ]
    },
    {
      "cell_type": "markdown",
      "source": [
        "## Back Test:"
      ],
      "metadata": {
        "id": "4G9TsRZppuCl"
      }
    },
    {
      "cell_type": "code",
      "source": [
        "data = yf.download(stock, start='1999-01-01', end='2024-10-01')\n",
        "data['MA_5'] = data['Open'].rolling(window=5).mean()  # 5-day moving average\n",
        "data['Variance'] = data['Open'].rolling(window=5).var()  # 5-day rolling variance\n",
        "data = data.iloc[20:]\n",
        "data = data.drop(columns=['Adj Close', 'High', 'Low', 'Close'])"
      ],
      "metadata": {
        "colab": {
          "base_uri": "https://localhost:8080/",
          "height": 216
        },
        "id": "zCo0d8SdldjJ",
        "outputId": "2428d534-edc1-49e2-9224-33a36d4326e8"
      },
      "execution_count": null,
      "outputs": [
        {
          "output_type": "error",
          "ename": "NameError",
          "evalue": "name 'yf' is not defined",
          "traceback": [
            "\u001b[0;31m---------------------------------------------------------------------------\u001b[0m",
            "\u001b[0;31mNameError\u001b[0m                                 Traceback (most recent call last)",
            "\u001b[0;32m<ipython-input-1-50f6aefb54e7>\u001b[0m in \u001b[0;36m<cell line: 1>\u001b[0;34m()\u001b[0m\n\u001b[0;32m----> 1\u001b[0;31m \u001b[0mdata\u001b[0m \u001b[0;34m=\u001b[0m \u001b[0myf\u001b[0m\u001b[0;34m.\u001b[0m\u001b[0mdownload\u001b[0m\u001b[0;34m(\u001b[0m\u001b[0mstock\u001b[0m\u001b[0;34m,\u001b[0m \u001b[0mstart\u001b[0m\u001b[0;34m=\u001b[0m\u001b[0;34m'1999-01-01'\u001b[0m\u001b[0;34m,\u001b[0m \u001b[0mend\u001b[0m\u001b[0;34m=\u001b[0m\u001b[0;34m'2024-10-01'\u001b[0m\u001b[0;34m)\u001b[0m\u001b[0;34m\u001b[0m\u001b[0;34m\u001b[0m\u001b[0m\n\u001b[0m\u001b[1;32m      2\u001b[0m \u001b[0mdata\u001b[0m\u001b[0;34m[\u001b[0m\u001b[0;34m'MA_5'\u001b[0m\u001b[0;34m]\u001b[0m \u001b[0;34m=\u001b[0m \u001b[0mdata\u001b[0m\u001b[0;34m[\u001b[0m\u001b[0;34m'Open'\u001b[0m\u001b[0;34m]\u001b[0m\u001b[0;34m.\u001b[0m\u001b[0mrolling\u001b[0m\u001b[0;34m(\u001b[0m\u001b[0mwindow\u001b[0m\u001b[0;34m=\u001b[0m\u001b[0;36m5\u001b[0m\u001b[0;34m)\u001b[0m\u001b[0;34m.\u001b[0m\u001b[0mmean\u001b[0m\u001b[0;34m(\u001b[0m\u001b[0;34m)\u001b[0m  \u001b[0;31m# 5-day moving average\u001b[0m\u001b[0;34m\u001b[0m\u001b[0;34m\u001b[0m\u001b[0m\n\u001b[1;32m      3\u001b[0m \u001b[0mdata\u001b[0m\u001b[0;34m[\u001b[0m\u001b[0;34m'Variance'\u001b[0m\u001b[0;34m]\u001b[0m \u001b[0;34m=\u001b[0m \u001b[0mdata\u001b[0m\u001b[0;34m[\u001b[0m\u001b[0;34m'Open'\u001b[0m\u001b[0;34m]\u001b[0m\u001b[0;34m.\u001b[0m\u001b[0mrolling\u001b[0m\u001b[0;34m(\u001b[0m\u001b[0mwindow\u001b[0m\u001b[0;34m=\u001b[0m\u001b[0;36m5\u001b[0m\u001b[0;34m)\u001b[0m\u001b[0;34m.\u001b[0m\u001b[0mvar\u001b[0m\u001b[0;34m(\u001b[0m\u001b[0;34m)\u001b[0m  \u001b[0;31m# 5-day rolling variance\u001b[0m\u001b[0;34m\u001b[0m\u001b[0;34m\u001b[0m\u001b[0m\n\u001b[1;32m      4\u001b[0m \u001b[0mdata\u001b[0m \u001b[0;34m=\u001b[0m \u001b[0mdata\u001b[0m\u001b[0;34m.\u001b[0m\u001b[0miloc\u001b[0m\u001b[0;34m[\u001b[0m\u001b[0;36m20\u001b[0m\u001b[0;34m:\u001b[0m\u001b[0;34m]\u001b[0m\u001b[0;34m\u001b[0m\u001b[0;34m\u001b[0m\u001b[0m\n\u001b[1;32m      5\u001b[0m \u001b[0mdata\u001b[0m \u001b[0;34m=\u001b[0m \u001b[0mdata\u001b[0m\u001b[0;34m.\u001b[0m\u001b[0mdrop\u001b[0m\u001b[0;34m(\u001b[0m\u001b[0mcolumns\u001b[0m\u001b[0;34m=\u001b[0m\u001b[0;34m[\u001b[0m\u001b[0;34m'Adj Close'\u001b[0m\u001b[0;34m,\u001b[0m \u001b[0;34m'High'\u001b[0m\u001b[0;34m,\u001b[0m \u001b[0;34m'Low'\u001b[0m\u001b[0;34m,\u001b[0m \u001b[0;34m'Close'\u001b[0m\u001b[0;34m]\u001b[0m\u001b[0;34m)\u001b[0m\u001b[0;34m\u001b[0m\u001b[0;34m\u001b[0m\u001b[0m\n",
            "\u001b[0;31mNameError\u001b[0m: name 'yf' is not defined"
          ]
        }
      ]
    },
    {
      "cell_type": "code",
      "source": [
        "test = BackTest(1000,0)\n",
        "test.download_data(stock,\"1999-01-01\",\"2024-10-01\",\"1d\")\n",
        "trades = [0,0,0,0]\n",
        "\n",
        "for row in data.itertuples():\n",
        "  test.step()\n",
        "  s = bucket_state(row[1:],b,d.columns)\n",
        "  s.append(test.getInv()+5)\n",
        "  a = model.best_action(s)\n",
        "  if a == \"buy\":\n",
        "    test.buy(1)\n",
        "    trades[0]+=1\n",
        "  elif a == \"sell\":\n",
        "    test.sell(1)\n",
        "    trades[1]+=1\n",
        "  elif a == \"clear\":\n",
        "    test.sell(test.getInv())\n",
        "    trades[2]+=1\n",
        "  elif a == \"hold\":\n",
        "    trades[3]+=1\n",
        "\n",
        "print('')\n",
        "print(test.get_portfolio_value()-1000)\n",
        "print(trades)\n",
        "print(test.getInv())"
      ],
      "metadata": {
        "colab": {
          "base_uri": "https://localhost:8080/",
          "height": 216
        },
        "id": "OPKv2QbYBura",
        "outputId": "9baf367e-bd61-486c-b180-91a5f9d982ae"
      },
      "execution_count": null,
      "outputs": [
        {
          "output_type": "error",
          "ename": "NameError",
          "evalue": "name 'BackTest' is not defined",
          "traceback": [
            "\u001b[0;31m---------------------------------------------------------------------------\u001b[0m",
            "\u001b[0;31mNameError\u001b[0m                                 Traceback (most recent call last)",
            "\u001b[0;32m<ipython-input-2-6f59298206b1>\u001b[0m in \u001b[0;36m<cell line: 1>\u001b[0;34m()\u001b[0m\n\u001b[0;32m----> 1\u001b[0;31m \u001b[0mtest\u001b[0m \u001b[0;34m=\u001b[0m \u001b[0mBackTest\u001b[0m\u001b[0;34m(\u001b[0m\u001b[0;36m1000\u001b[0m\u001b[0;34m,\u001b[0m\u001b[0;36m0\u001b[0m\u001b[0;34m)\u001b[0m\u001b[0;34m\u001b[0m\u001b[0;34m\u001b[0m\u001b[0m\n\u001b[0m\u001b[1;32m      2\u001b[0m \u001b[0mtest\u001b[0m\u001b[0;34m.\u001b[0m\u001b[0mdownload_data\u001b[0m\u001b[0;34m(\u001b[0m\u001b[0mstock\u001b[0m\u001b[0;34m,\u001b[0m\u001b[0;34m\"1999-01-01\"\u001b[0m\u001b[0;34m,\u001b[0m\u001b[0;34m\"2024-10-01\"\u001b[0m\u001b[0;34m,\u001b[0m\u001b[0;34m\"1d\"\u001b[0m\u001b[0;34m)\u001b[0m\u001b[0;34m\u001b[0m\u001b[0;34m\u001b[0m\u001b[0m\n\u001b[1;32m      3\u001b[0m \u001b[0mtrades\u001b[0m \u001b[0;34m=\u001b[0m \u001b[0;34m[\u001b[0m\u001b[0;36m0\u001b[0m\u001b[0;34m,\u001b[0m\u001b[0;36m0\u001b[0m\u001b[0;34m,\u001b[0m\u001b[0;36m0\u001b[0m\u001b[0;34m,\u001b[0m\u001b[0;36m0\u001b[0m\u001b[0;34m]\u001b[0m\u001b[0;34m\u001b[0m\u001b[0;34m\u001b[0m\u001b[0m\n\u001b[1;32m      4\u001b[0m \u001b[0;34m\u001b[0m\u001b[0m\n\u001b[1;32m      5\u001b[0m \u001b[0;32mfor\u001b[0m \u001b[0mrow\u001b[0m \u001b[0;32min\u001b[0m \u001b[0mdata\u001b[0m\u001b[0;34m.\u001b[0m\u001b[0mitertuples\u001b[0m\u001b[0;34m(\u001b[0m\u001b[0;34m)\u001b[0m\u001b[0;34m:\u001b[0m\u001b[0;34m\u001b[0m\u001b[0;34m\u001b[0m\u001b[0m\n",
            "\u001b[0;31mNameError\u001b[0m: name 'BackTest' is not defined"
          ]
        }
      ]
    },
    {
      "cell_type": "markdown",
      "source": [
        "## Forward Test:"
      ],
      "metadata": {
        "id": "0byktAAMp3EG"
      }
    },
    {
      "cell_type": "code",
      "source": [
        "data = yf.download(stock, start=\"2024-10-01\", end=\"2024-12-03\")\n",
        "data['MA_5'] = data['Open'].rolling(window=5).mean()  # 5-day moving average\n",
        "data['Variance'] = data['Open'].rolling(window=5).var()  # 5-day rolling variance\n",
        "data = data.iloc[20:]\n",
        "data = data.drop(columns=['Adj Close', 'High', 'Low', 'Close'])"
      ],
      "metadata": {
        "id": "UtxbagBNlLM9"
      },
      "execution_count": null,
      "outputs": []
    },
    {
      "cell_type": "code",
      "source": [
        "test = BackTest(1000,0)\n",
        "test.download_data(stock,\"2024-10-01\",\"2024-12-03\",\"1d\")\n",
        "trades = [0,0,0,0]\n",
        "\n",
        "for row in data.itertuples():\n",
        "  test.step()\n",
        "  s = bucket_state(row[1:],b,d.columns)\n",
        "  s.append(test.getInv()+5)\n",
        "  a = model.best_action(s)\n",
        "  if a == \"buy\":\n",
        "    test.buy(1)\n",
        "    trades[0]+=1\n",
        "  elif a == \"sell\":\n",
        "    test.sell(1)\n",
        "    trades[1]+=1\n",
        "  elif a == \"clear\":\n",
        "    test.sell(test.getInv())\n",
        "    trades[2]+=1\n",
        "  elif a == \"hold\":\n",
        "    trades[3]+=1\n",
        "\n",
        "print('')\n",
        "print(test.get_portfolio_value()-1000)\n",
        "print(trades)\n",
        "print(test.getInv())"
      ],
      "metadata": {
        "id": "GcfUPS3rj0Pt"
      },
      "execution_count": null,
      "outputs": []
    },
    {
      "cell_type": "code",
      "source": [
        "np.save(stock+'.npy', model.values)"
      ],
      "metadata": {
        "id": "GyiUY4DwfBiC",
        "colab": {
          "base_uri": "https://localhost:8080/",
          "height": 144
        },
        "outputId": "2a164a64-c5c2-43c2-cbb8-245ea1207435"
      },
      "execution_count": null,
      "outputs": [
        {
          "output_type": "error",
          "ename": "NameError",
          "evalue": "name 'np' is not defined",
          "traceback": [
            "\u001b[0;31m---------------------------------------------------------------------------\u001b[0m",
            "\u001b[0;31mNameError\u001b[0m                                 Traceback (most recent call last)",
            "\u001b[0;32m<ipython-input-3-053bf3812a0f>\u001b[0m in \u001b[0;36m<cell line: 1>\u001b[0;34m()\u001b[0m\n\u001b[0;32m----> 1\u001b[0;31m \u001b[0mnp\u001b[0m\u001b[0;34m.\u001b[0m\u001b[0msave\u001b[0m\u001b[0;34m(\u001b[0m\u001b[0mstock\u001b[0m\u001b[0;34m+\u001b[0m\u001b[0;34m'.npy'\u001b[0m\u001b[0;34m,\u001b[0m \u001b[0mmodel\u001b[0m\u001b[0;34m.\u001b[0m\u001b[0mvalues\u001b[0m\u001b[0;34m)\u001b[0m\u001b[0;34m\u001b[0m\u001b[0;34m\u001b[0m\u001b[0m\n\u001b[0m",
            "\u001b[0;31mNameError\u001b[0m: name 'np' is not defined"
          ]
        }
      ]
    }
  ]
}
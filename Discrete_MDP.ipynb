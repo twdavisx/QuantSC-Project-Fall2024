{
 "cells": [
  {
   "cell_type": "markdown",
   "metadata": {
    "id": "PQ5UuaF7ohb3"
   },
   "source": [
    "## Imports:"
   ]
  },
  {
   "cell_type": "code",
   "execution_count": 176,
   "metadata": {
    "id": "zma5prqKfiB6"
   },
   "outputs": [],
   "source": [
    "import numpy as np\n",
    "import yfinance as yf # easiest for financial data\n",
    "import pandas as pd"
   ]
  },
  {
   "cell_type": "markdown",
   "metadata": {
    "id": "mvO3kHpYoqkY"
   },
   "source": [
    "## Defining the Discrete MDP class:"
   ]
  },
  {
   "cell_type": "code",
   "execution_count": 177,
   "metadata": {
    "id": "cLnS1QZcNfeL"
   },
   "outputs": [],
   "source": [
    "class MDP:\n",
    "\n",
    "  gamma = 0.9913 # realistic day to day discount based on risk free rate\n",
    "\n",
    "  def __init__(self, action, tp, reward_function, pricedict, values, convergence_threshold = 0.1, max_iter = 20):\n",
    "\n",
    "    self.action = action\n",
    "    self.tp = tp\n",
    "    self.reward = reward_function\n",
    "    self.pricedict = pricedict\n",
    "    self.values = values\n",
    "    \n",
    "    self.convergence_threshold = convergence_threshold  # different convergence threshold important. Lower priced stocks lower convergence_threshold\n",
    "    self.max_iter = max_iter\n",
    "\n",
    "\n",
    "  def value_iteration(self):\n",
    "    iter = 0\n",
    "    delta = 1\n",
    "    while(iter!=self.max_iter and (delta>=self.convergence_threshold)):\n",
    "      iter+=1\n",
    "      delta = 0\n",
    "      new_vals = np.zeros(self.values.shape)\n",
    "\n",
    "      for i in range(5):\n",
    "        for j in range(5):\n",
    "          for k in range(5):\n",
    "            for l in range(5):\n",
    "              for inventory in range(11):\n",
    "                for a in range(len(self.action)):\n",
    "                  state = (i,j,k,l,inventory)\n",
    "\n",
    "                  if (self.action[a] == \"buy\" and inventory == 10) or (self.action[a] == \"sell\" and inventory == 0):\n",
    "                    continue\n",
    "\n",
    "                  reward = self.reward(state, self.action[a], self.pricedict, self.tp, self.gamma, self.values)\n",
    "                  delta = max(delta, abs(self.values[i][j][k][l][inventory][a] - reward))\n",
    "                  new_vals[i][j][k][l][inventory][a] = reward\n",
    "\n",
    "      print(iter, delta)\n",
    "      self.values = new_vals\n",
    "\n",
    "    return\n",
    "\n",
    "  def best_action(self, s):\n",
    "\n",
    "    max = self.values[s[0]][s[1]][s[2]][s[3]][s[4]][0]\n",
    "    a = 0\n",
    "    for i in range(1,3):\n",
    "      if self.values[s[0]][s[1]][s[2]][s[3]][s[4]][i] > max:\n",
    "        max = self.values[s[0]][s[1]][s[2]][s[3]][s[4]][i]\n",
    "        a = i\n",
    "        #long but gets rid of if statement\n",
    "    return self.action[a]*bool(max>=0 and not((s[4] == 0 and self.action[a] == 'sell') or (s[4] == 10 and self.action[a] == 'buy')))+bool(max<0 and not((s[4] == 0 and self.action[a] == 'sell') or (s[4] == 10 and self.action[a] == 'buy')))*\"clear\"+bool((s[4] == 0 and self.action[a] == 'sell') or (s[4] == 10 and self.action[a] == 'buy'))*\"hold\""
   ]
  },
  {
   "cell_type": "markdown",
   "metadata": {
    "id": "zXOAcF8yov_T"
   },
   "source": [
    "## Cleaning data and sorting Data"
   ]
  },
  {
   "cell_type": "code",
   "execution_count": 178,
   "metadata": {
    "id": "H_7XFK2rp__j"
   },
   "outputs": [],
   "source": [
    "stock = \"NEM\""
   ]
  },
  {
   "cell_type": "code",
   "execution_count": 179,
   "metadata": {
    "colab": {
     "base_uri": "https://localhost:8080/"
    },
    "id": "0Qu1MdbeqJF5",
    "outputId": "983c212b-443f-431b-c24b-10946c9dffa9"
   },
   "outputs": [
    {
     "name": "stdout",
     "output_type": "stream",
     "text": [
      "Date\n",
      "1987-06-11 00:00:00-04:00    2.00\n",
      "1987-10-09 00:00:00-04:00    1.50\n",
      "1994-04-22 00:00:00-04:00    1.25\n",
      "Name: Stock Splits, dtype: float64\n"
     ]
    }
   ],
   "source": [
    "tkr = yf.Ticker(stock)\n",
    "hist = tkr.history(period=\"max\")\n",
    "print((tkr.splits))"
   ]
  },
  {
   "cell_type": "code",
   "execution_count": 180,
   "metadata": {},
   "outputs": [],
   "source": [
    "start_date = \"1999-01-01\"\n",
    "end_date = \"2024-10-01\""
   ]
  },
  {
   "cell_type": "code",
   "execution_count": 181,
   "metadata": {
    "colab": {
     "base_uri": "https://localhost:8080/"
    },
    "id": "LoQm2yv0g4Tq",
    "outputId": "cd1bf58b-2d70-417f-90cd-17927ed53ca9"
   },
   "outputs": [
    {
     "name": "stderr",
     "output_type": "stream",
     "text": [
      "[*********************100%***********************]  1 of 1 completed\n"
     ]
    }
   ],
   "source": [
    "data = yf.download(stock, start=start_date, end=end_date)\n",
    "data['MA_5'] = data['Open'].rolling(window=5).mean()  # 5-day moving average\n",
    "data['Variance'] = data['Open'].rolling(window=5).var()  # 5-day rolling variance\n",
    "data = data.iloc[20:]\n",
    "data = data.drop(columns=['Adj Close', 'High', 'Low', 'Close'])"
   ]
  },
  {
   "cell_type": "markdown",
   "metadata": {
    "id": "3JnG35GIo1l5"
   },
   "source": [
    "## Defining functions to custumize MDP"
   ]
  },
  {
   "cell_type": "code",
   "execution_count": 182,
   "metadata": {
    "colab": {
     "base_uri": "https://localhost:8080/"
    },
    "id": "2ECuDRWhhAdg",
    "outputId": "b0391737-43c4-46ad-eb99-f9169c898fd9"
   },
   "outputs": [
    {
     "name": "stdout",
     "output_type": "stream",
     "text": [
      "success loading values\n"
     ]
    }
   ],
   "source": [
    "def transform_data(data, num_buckets):\n",
    "  bucket_labels = range(0, num_buckets)\n",
    "  bucketized_data = data.copy()\n",
    "  bucket_boundaries = {}\n",
    "\n",
    "  for col in data.columns:\n",
    "      bucketized_data[col], bins = pd.qcut(data[col], q=num_buckets, labels=bucket_labels, retbins=True)\n",
    "      bucket_boundaries[col] = bins[1:]\n",
    "  return bucketized_data, bucket_boundaries\n",
    "\n",
    "\n",
    "def bucket_state(s, bucket_boundaries, c):\n",
    "  r = []\n",
    "  for i in range(len(c)):\n",
    "    buckets = bucket_boundaries[c[i]]\n",
    "    v = s[i]\n",
    "    for j in range(len(buckets)):\n",
    "      if v < buckets[j]:\n",
    "        r.append(j)\n",
    "        break\n",
    "      if j == len(buckets) - 1:\n",
    "        r.append(j)\n",
    "  return r\n",
    "\n",
    "def create_pricedict(data, close_bucket):\n",
    "  price_dict = np.zeros((len(close_bucket), 2))\n",
    "  r = np.zeros(len(close_bucket))\n",
    "  for row in data.itertuples():\n",
    "    p = row[1]\n",
    "    for i in range(len(close_bucket)):\n",
    "      if p < close_bucket[i]:\n",
    "        price_dict[i][0]+=p\n",
    "        price_dict[i][1]+=1\n",
    "        break\n",
    "      if i == len(close_bucket)-1:\n",
    "        price_dict[i][0]+=p\n",
    "        price_dict[i][1]+=1\n",
    "  for i in range(len(price_dict)):\n",
    "    r[i] = price_dict[i][0]/price_dict[i][1]\n",
    "  return r # r[state_price] returns average price for that bucket\n",
    "\n",
    "def tp(transformed_data):\n",
    "  tp = np.zeros((5,5,5,5,5,5,5,5))\n",
    "  count = np.zeros((5,5,5,5))\n",
    "  i = 0\n",
    "  for row in transformed_data.itertuples():\n",
    "    count[row[1]][row[2]][row[3]][row[4]]+=1\n",
    "    if i!=0:\n",
    "      tp[prevrow[1]][prevrow[2]][prevrow[3]][prevrow[4]][row[1]][row[2]][row[3]][row[4]]+=1 #replaces if statement\n",
    "    i+=1\n",
    "    prevrow = row\n",
    "\n",
    "  for i in range(5):\n",
    "    for j in range(5):\n",
    "      for k in range(5):\n",
    "        for l in range(5):\n",
    "          for o in range(5):\n",
    "            for p in range(5):\n",
    "              for q in range(5):\n",
    "                for r in range(5):\n",
    "                  tp[i][j][k][l][o][p][q][r] = (tp[i][j][k][l][o][p][q][r] * (count[i][j][k][l]!=0))/(count[i][j][k][l] + (count[i][j][k][l]==0)) # gets rid of divide by zero if statement\n",
    "\n",
    "  return tp\n",
    "\n",
    "actions = (\"buy\",\"hold\",\"sell\")\n",
    "\n",
    "def reward_function(s,a,price_dict,tp,gamma,values):\n",
    "  reward = 0\n",
    "  inv = s[4]\n",
    "  inv-=(not(a==\"buy\" or a==\"hold\"))+(not(a==\"sell\" or a==\"hold\")) # no if statement\n",
    "  for i in range(5):\n",
    "    for j in range(5):\n",
    "      for k in range(5):\n",
    "        for l in range(5):\n",
    "          immediate_reward = (price_dict[i] * (inv - 5)) - (price_dict[s[0]] * (inv - 5))\n",
    "          future_value = max(values[i][j][k][l][inv])\n",
    "          reward += tp[s[0]][s[1]][s[2]][s[3]][i][j][k][l] * (immediate_reward + gamma * future_value)\n",
    "\n",
    "  return reward\n",
    "\n",
    "try:\n",
    "  values = np.load(\"saves/\"+stock+start_date+\"-\"+end_date+\".npy\")\n",
    "  print(\"success loading values\")\n",
    "except:\n",
    "  values = np.ones((5,5,5,5,11,3))\n",
    "  print(\"failed loading values\")"
   ]
  },
  {
   "cell_type": "code",
   "execution_count": 183,
   "metadata": {
    "id": "Qf5kv_md6ARV"
   },
   "outputs": [],
   "source": [
    "d, b = transform_data(data, 5)\n",
    "pricedict = create_pricedict(data, b[d.columns[0]])\n",
    "_tp = tp(d)"
   ]
  },
  {
   "cell_type": "markdown",
   "metadata": {
    "id": "ucEFurb0pBV3"
   },
   "source": [
    "## Creating Test class"
   ]
  },
  {
   "cell_type": "code",
   "execution_count": 184,
   "metadata": {
    "id": "In3q7BjAdkxQ"
   },
   "outputs": [],
   "source": [
    "class BackTest:\n",
    "    def __init__(self, initial_cash, initial_inventory):\n",
    "        self.inventory = initial_inventory\n",
    "        self.cash = initial_cash\n",
    "        self.current_index = -1 #Placeholder Value\n",
    "        self.current_price = -1 #Placeholder value\n",
    "\n",
    "    def download_data(self,ticker,start,end,interval):\n",
    "        self.ticker = ticker\n",
    "        self.data = yf.download(ticker, start=start, end=end, interval=interval)['Open'].iloc[20:]\n",
    "        return\n",
    "\n",
    "    def buy(self,n):\n",
    "        #Buy n Shares\n",
    "        if self.current_price*n > self.cash:\n",
    "            print(\"not enough cash\")\n",
    "            return\n",
    "\n",
    "        self.cash -= self.current_price*n\n",
    "        self.inventory += n\n",
    "\n",
    "    def sell(self,n):\n",
    "        #Sell n Shares\n",
    "\n",
    "        self.cash += self.current_price*n\n",
    "        self.inventory -= n\n",
    "\n",
    "    def step(self):\n",
    "        self.current_index += 1\n",
    "        self.current_price = self.data.iloc[self.current_index][self.ticker]\n",
    "        return\n",
    "\n",
    "    def getInv(self):\n",
    "      return self.inventory\n",
    "\n",
    "    def get_portfolio_value(self):\n",
    "        return self.current_price*self.inventory + self.cash"
   ]
  },
  {
   "cell_type": "markdown",
   "metadata": {
    "id": "7eL2XjaipHji"
   },
   "source": [
    "## Model Init and Training"
   ]
  },
  {
   "cell_type": "code",
   "execution_count": 185,
   "metadata": {
    "colab": {
     "base_uri": "https://localhost:8080/"
    },
    "id": "TvuD7ZYJ7xDG",
    "outputId": "adefda1e-1f7a-43c4-ce0a-6486bc86de56"
   },
   "outputs": [
    {
     "name": "stdout",
     "output_type": "stream",
     "text": [
      "1 1.9248625640377472\n",
      "2 1.8193072905059857\n",
      "3 1.743801136458794\n",
      "4 1.6697252133216987\n",
      "5 1.6044467504545041\n",
      "6 1.5476875802163432\n",
      "7 1.4977332273004786\n",
      "8 1.4111186886685\n",
      "9 1.37769973253158\n",
      "10 1.3479752748778333\n",
      "11 1.3135145516889413\n",
      "12 1.2762549939463526\n",
      "13 1.2374004220321595\n",
      "14 1.1982160004252105\n",
      "15 1.1596720851603397\n",
      "16 1.1224131481536794\n",
      "17 1.087167870432875\n",
      "18 1.0537189659474606\n",
      "19 1.0223447137069392\n",
      "20 0.9920721463553548\n"
     ]
    }
   ],
   "source": [
    "model = MDP(actions, _tp, reward_function, pricedict, values,0.2,20)\n",
    "model.value_iteration()"
   ]
  },
  {
   "cell_type": "markdown",
   "metadata": {
    "id": "4G9TsRZppuCl"
   },
   "source": [
    "## Back Test:"
   ]
  },
  {
   "cell_type": "code",
   "execution_count": 186,
   "metadata": {
    "colab": {
     "base_uri": "https://localhost:8080/",
     "height": 216
    },
    "id": "zCo0d8SdldjJ",
    "outputId": "2428d534-edc1-49e2-9224-33a36d4326e8"
   },
   "outputs": [
    {
     "name": "stderr",
     "output_type": "stream",
     "text": [
      "[*********************100%***********************]  1 of 1 completed\n"
     ]
    }
   ],
   "source": [
    "data = yf.download(stock, start='2003-03-01', end='2024-10-01')\n",
    "data['MA_5'] = data['Open'].rolling(window=5).mean()  # 5-day moving average\n",
    "data['Variance'] = data['Open'].rolling(window=5).var()  # 5-day rolling variance\n",
    "data = data.iloc[20:]\n",
    "data = data.drop(columns=['Adj Close', 'High', 'Low', 'Close'])"
   ]
  },
  {
   "cell_type": "code",
   "execution_count": 187,
   "metadata": {
    "colab": {
     "base_uri": "https://localhost:8080/",
     "height": 216
    },
    "id": "OPKv2QbYBura",
    "outputId": "9baf367e-bd61-486c-b180-91a5f9d982ae"
   },
   "outputs": [
    {
     "name": "stderr",
     "output_type": "stream",
     "text": [
      "[*********************100%***********************]  1 of 1 completed\n"
     ]
    },
    {
     "name": "stdout",
     "output_type": "stream",
     "text": [
      "\n",
      "169.57001876831055\n",
      "[1168, 1147, 4, 3094]\n",
      "5\n"
     ]
    }
   ],
   "source": [
    "test = BackTest(200,0)\n",
    "test.download_data(stock,'2003-03-01','2024-10-01',\"1d\")\n",
    "trades = [0,0,0,0]\n",
    "\n",
    "for row in data.itertuples():\n",
    "  test.step()\n",
    "  s = bucket_state(row[1:],b,d.columns)\n",
    "  s.append(test.getInv()+5)\n",
    "  a = model.best_action(s)\n",
    "  if a == \"buy\":\n",
    "    test.buy(1)\n",
    "    trades[0]+=1\n",
    "  elif a == \"sell\":\n",
    "    test.sell(1)\n",
    "    trades[1]+=1\n",
    "  elif a == \"clear\":\n",
    "    test.sell(test.getInv())\n",
    "    trades[2]+=1\n",
    "  elif a == \"hold\":\n",
    "    trades[3]+=1\n",
    "\n",
    "print('')\n",
    "print(test.get_portfolio_value()-200)\n",
    "print(trades)\n",
    "print(test.getInv())"
   ]
  },
  {
   "cell_type": "markdown",
   "metadata": {
    "id": "0byktAAMp3EG"
   },
   "source": [
    "## Forward Test:"
   ]
  },
  {
   "cell_type": "code",
   "execution_count": 188,
   "metadata": {
    "id": "UtxbagBNlLM9"
   },
   "outputs": [
    {
     "name": "stderr",
     "output_type": "stream",
     "text": [
      "[*********************100%***********************]  1 of 1 completed\n"
     ]
    }
   ],
   "source": [
    "data = yf.download(stock, start=\"2024-10-01\", end=\"2024-12-03\")\n",
    "data['MA_5'] = data['Open'].rolling(window=5).mean()  # 5-day moving average\n",
    "data['Variance'] = data['Open'].rolling(window=5).var()  # 5-day rolling variance\n",
    "data = data.iloc[20:]\n",
    "data = data.drop(columns=['Adj Close', 'High', 'Low', 'Close'])"
   ]
  },
  {
   "cell_type": "code",
   "execution_count": 189,
   "metadata": {
    "id": "GcfUPS3rj0Pt"
   },
   "outputs": [
    {
     "name": "stderr",
     "output_type": "stream",
     "text": [
      "[*********************100%***********************]  1 of 1 completed"
     ]
    },
    {
     "name": "stdout",
     "output_type": "stream",
     "text": [
      "\n",
      "-14.909988403320312\n",
      "[5, 0, 0, 19]\n",
      "5\n"
     ]
    },
    {
     "name": "stderr",
     "output_type": "stream",
     "text": [
      "\n"
     ]
    }
   ],
   "source": [
    "test = BackTest(1000,0)\n",
    "test.download_data(stock,\"2024-10-01\",\"2024-12-03\",\"1d\")\n",
    "trades = [0,0,0,0]\n",
    "\n",
    "for row in data.itertuples():\n",
    "  test.step()\n",
    "  s = bucket_state(row[1:],b,d.columns)\n",
    "  s.append(test.getInv()+5)\n",
    "  a = model.best_action(s)\n",
    "  if a == \"buy\":\n",
    "    test.buy(1)\n",
    "    trades[0]+=1\n",
    "  elif a == \"sell\":\n",
    "    test.sell(1)\n",
    "    trades[1]+=1\n",
    "  elif a == \"clear\":\n",
    "    test.sell(test.getInv())\n",
    "    trades[2]+=1\n",
    "  elif a == \"hold\":\n",
    "    trades[3]+=1\n",
    "\n",
    "print('')\n",
    "print(test.get_portfolio_value()-1000)\n",
    "print(trades)\n",
    "print(test.getInv())"
   ]
  },
  {
   "cell_type": "code",
   "execution_count": 190,
   "metadata": {
    "colab": {
     "base_uri": "https://localhost:8080/",
     "height": 144
    },
    "id": "GyiUY4DwfBiC",
    "outputId": "2a164a64-c5c2-43c2-cbb8-245ea1207435"
   },
   "outputs": [],
   "source": [
    "np.save(\"saves/\"+stock+start_date+\"-\"+end_date+\".npy\", model.values)"
   ]
  }
 ],
 "metadata": {
  "colab": {
   "provenance": []
  },
  "kernelspec": {
   "display_name": "Python 3",
   "name": "python3"
  },
  "language_info": {
   "codemirror_mode": {
    "name": "ipython",
    "version": 3
   },
   "file_extension": ".py",
   "mimetype": "text/x-python",
   "name": "python",
   "nbconvert_exporter": "python",
   "pygments_lexer": "ipython3",
   "version": "3.10.5"
  }
 },
 "nbformat": 4,
 "nbformat_minor": 0
}
